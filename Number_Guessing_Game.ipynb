{
  "nbformat": 4,
  "nbformat_minor": 0,
  "metadata": {
    "colab": {
      "provenance": [],
      "authorship_tag": "ABX9TyPH3fINxKciQ9lybnifjX9A",
      "include_colab_link": true
    },
    "kernelspec": {
      "name": "python3",
      "display_name": "Python 3"
    },
    "language_info": {
      "name": "python"
    }
  },
  "cells": [
    {
      "cell_type": "markdown",
      "metadata": {
        "id": "view-in-github",
        "colab_type": "text"
      },
      "source": [
        "<a href=\"https://colab.research.google.com/github/singhadarsh9191/Number-Guessing-Game/blob/main/Number_Guessing_Game.ipynb\" target=\"_parent\"><img src=\"https://colab.research.google.com/assets/colab-badge.svg\" alt=\"Open In Colab\"/></a>"
      ]
    },
    {
      "cell_type": "code",
      "source": [
        "#imported this library to select random values\n",
        "import random\n",
        "\n",
        "print(\"Welcome to the number guessing game.\")\n",
        "\n",
        "#used  random.choice to select random values from a range of 1 to 100.\n",
        "random_num = random.choice(range(1,101))\n",
        "print(\"I am thinking of a number from 1 to 100. Try a guess.\")\n",
        "\n",
        "#Asked for level from user either hard or easy.\n",
        "difficulty = input(\"Choose a difficulty level. Type 'easy' or 'hard': \").lower()\n",
        "\n",
        "#if easy or hard condition\n",
        "if difficulty == \"easy\":\n",
        "  print(\"You have 10 attempts remaining to guess the number.\")\n",
        "  attempts = 10\n",
        "\n",
        "  #used loop to run till the attempt ends. used while decrement loop\n",
        "  while attempts > 0:\n",
        "\n",
        "#took input from user.\n",
        "    guess = int(input(\"Make a guess: \"))\n",
        "\n",
        "#comparison of values from user and selected random values.\n",
        "    if guess == random_num:\n",
        "      print(f\"Hurray! You have guessed right {guess}. You Won.\")\n",
        "      break\n",
        "    elif guess > random_num:\n",
        "      print(\"Too high.\")\n",
        "      #used the attempt-1 to print the remaining attempts of player\n",
        "      print(f\"You have {attempts-1} attempts left\")\n",
        "    elif guess < random_num:\n",
        "      print(\"Too low.\")\n",
        "      print(f\"You have {attempts-1} attempts left\")\n",
        "    attempts = attempts-1\n",
        "  print(\"You lose.\")\n",
        "\n",
        "#if user chose hard level\n",
        "elif difficulty == \"hard\":\n",
        "  print(\"You have 5 attempts remaining to guess the number.\")\n",
        "  attempts = 5\n",
        "\n",
        "  while attempts > 0:\n",
        "\n",
        "    guess = int(input(\"Make a guess: \"))\n",
        "\n",
        "    if guess == random_num:\n",
        "      print(f\"Hurray! You have guessed right {guess}. You Won.\")\n",
        "      break\n",
        "    elif guess > random_num:\n",
        "      print(\"Too high.\")\n",
        "      print(f\"You have {attempts-1} attempts left\")\n",
        "    elif guess < random_num:\n",
        "      print(\"Too low.\")\n",
        "      print(f\"You have {attempts-1} attempts left\")\n",
        "    attempts = attempts-1\n",
        "  print(\"You lose.\")\n",
        "\n",
        "\n",
        "\n",
        "\n",
        "\n"
      ],
      "metadata": {
        "colab": {
          "base_uri": "https://localhost:8080/"
        },
        "id": "D8IX23iKDpJ-",
        "outputId": "4f9f66e2-212b-4b0e-fff9-88917b7d4232"
      },
      "execution_count": 40,
      "outputs": [
        {
          "output_type": "stream",
          "name": "stdout",
          "text": [
            "Welcome to the number guessing game.\n",
            "I am thinking of a number from 1 to 100. Try a guess.\n",
            "Choose a difficulty level. Type 'easy' or 'hard': hard\n",
            "You have 5 attempts remaining to guess the number.\n",
            "Make a guess: 55\n",
            "Too low.\n",
            "You have 4 attempts left\n",
            "Make a guess: 70\n",
            "Too low.\n",
            "You have 3 attempts left\n",
            "Make a guess: 90\n",
            "Too high.\n",
            "You have 2 attempts left\n",
            "Make a guess: 80\n",
            "Too high.\n",
            "You have 1 attempts left\n",
            "Make a guess: 75\n",
            "Too high.\n",
            "You have 0 attempts left\n",
            "You lose.\n"
          ]
        }
      ]
    },
    {
      "cell_type": "code",
      "source": [
        "55\n",
        "5"
      ],
      "metadata": {
        "id": "x3OL9kVIEK0n"
      },
      "execution_count": null,
      "outputs": []
    }
  ]
}